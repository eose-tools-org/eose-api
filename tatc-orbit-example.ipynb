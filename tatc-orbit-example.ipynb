{
 "cells": [
  {
   "cell_type": "code",
   "execution_count": 1,
   "metadata": {},
   "outputs": [],
   "source": [
    "from datetime import datetime, timedelta\n",
    "from typing import List\n",
    "\n",
    "from pydantic import BaseModel, Field\n",
    "\n",
    "class Orbit(BaseModel):\n",
    "    name = str = Field(..., description=\"Name\")\n",
    "    tle = List[str] = Field(..., description=\"Orbit\")\n",
    "\n",
    "class PropagationRequest(BaseModel):\n",
    "    orbit: Orbit = Field(\n",
    "        ...,\n",
    "        description=\"Orbit to be propagated.\"\n",
    "    )\n",
    "    start: datetime = Field(\n",
    "        ...,\n",
    "        description=\"Propagation start time.\"\n",
    "    )\n",
    "    duration: timedelta = Field(\n",
    "        ...,\n",
    "        description=\"Propagation duration.\"\n",
    "    )\n",
    "    time_step: timedelta = Field(\n",
    "        ...,\n",
    "        description=\"Propagation time step duration.\"\n",
    "    )\n",
    "\n",
    "class PropagationRecord(BaseModel):\n",
    "    time: datetime = Field(..., description=\"Time\")\n",
    "    position: List[float] = Field(..., description=\"Position\")\n",
    "    velocity: List[float] = Field(..., description=\"Velocity\")\n",
    "\n",
    "class PropagationResponse(BaseModel):\n",
    "    records: List[PropagationRecord] = Field(\n",
    "        [],\n",
    "        description=\"Propagation results\"\n",
    "    )"
   ]
  },
  {
   "cell_type": "code",
   "execution_count": null,
   "metadata": {},
   "outputs": [],
   "source": [
    "from tatc.schemas import Satellite, TwoLineElements\n",
    "from tatc.analysis import collect_orbit_track\n",
    "\n",
    "import pandas as pd\n",
    "\n",
    "def propagate(request: PropagationRequest) -> PropagationResponse:\n",
    "    return PropagationResponse(\n",
    "        records=collect_orbit_track(\n",
    "            Satellite(\n",
    "                name=request.orbit.name,\n",
    "                orbit=TwoLineElements(\n",
    "                    request.orbit.tle[0],\n",
    "                    request.orbit.tle[1]\n",
    "                )\n",
    "            ),\n",
    "            None,\n",
    "            pd.date_range(request.start, request.start + request.duration, freq=request.time_step)\n",
    "        ).apply(lambda r: PropagationRecord(\n",
    "            time=r.time,\n",
    "            position=r.geometry,\n",
    "            velocity=r.velocity\n",
    "        ), axis=1)\n",
    "    )"
   ]
  }
 ],
 "metadata": {
  "kernelspec": {
   "display_name": "tatc_env_2",
   "language": "python",
   "name": "python3"
  },
  "language_info": {
   "codemirror_mode": {
    "name": "ipython",
    "version": 3
   },
   "file_extension": ".py",
   "mimetype": "text/x-python",
   "name": "python",
   "nbconvert_exporter": "python",
   "pygments_lexer": "ipython3",
   "version": "3.10.14"
  }
 },
 "nbformat": 4,
 "nbformat_minor": 2
}
