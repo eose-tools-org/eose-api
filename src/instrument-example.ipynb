{
 "cells": [
  {
   "cell_type": "code",
   "execution_count": 1,
   "metadata": {},
   "outputs": [
    {
     "name": "stdout",
     "output_type": "stream",
     "text": [
      "name=None id=None mass=100.5 volume=0.75 power=150.0 orientation=[0.0, 0.0, 0.0, 1.0] field_of_view=SphericalGeometry(shape='CIRCULAR', diameter=30.0, angle_height=None, angle_width=None) data_rate=10.5 bits_per_pixel=16\n",
      "name=None id=None mass=100.5 volume=0.75 power=150.0 orientation=[0.5, 0.5, 0.5, 0.5] field_of_view=SphericalGeometry(shape='RECTANGULAR', diameter=None, angle_height=10.0, angle_width=30.0) data_rate=50.5 bits_per_pixel=8\n",
      "shape='CIRCULAR' diameter=90.0 angle_height=None angle_width=None\n",
      "shape='RECTANGULAR' diameter=None angle_height=90.0 angle_width=45.0\n"
     ]
    },
    {
     "data": {
      "text/plain": [
       "1 validation error for SphericalGeometry\n",
       "  Value error, RECTANGULAR shape must have both angle_height and angle_width. [type=value_error, input_value={'shape': <Shape.RECTANGU...LAR'>, 'diameter': 10.0}, input_type=dict]\n",
       "    For further information visit https://errors.pydantic.dev/2.8/v/value_error"
      ]
     },
     "metadata": {},
     "output_type": "display_data"
    }
   ],
   "source": [
    "from eose.instruments import BasicSensor, SphericalGeometry, Shape\n",
    "\n",
    "from pydantic import ValidationError\n",
    "\n",
    "# Example usage of SphericalGeometry class used to define the field of view of the instrument\n",
    "\n",
    "spherical_geom = SphericalGeometry(shape=Shape.CIRCULAR, diameter=90.0)\n",
    "print(spherical_geom)\n",
    "\n",
    "spherical_geom = SphericalGeometry(shape=Shape.RECTANGULAR, angle_height= 90.0, angle_width= 45)\n",
    "print(spherical_geom)\n",
    "\n",
    "# example validation error\n",
    "try:\n",
    "    SphericalGeometry(shape=Shape.RECTANGULAR, diameter=10.0)\n",
    "except ValidationError as err:\n",
    "    display(err)"
   ]
  },
  {
   "cell_type": "code",
   "execution_count": 3,
   "metadata": {},
   "outputs": [
    {
     "name": "stdout",
     "output_type": "stream",
     "text": [
      "name=None id=None mass=100.5 volume=0.75 power=150.0 orientation=[0, 0, 0, 1] field_of_view=SphericalGeometry(shape='CIRCULAR', diameter=30.0, angle_height=None, angle_width=None) data_rate=10.5 bits_per_pixel=16\n",
      "name=None id=None mass=100.5 volume=0.75 power=150.0 orientation=[0.5, 0.5, 0.5, 0.5] field_of_view=SphericalGeometry(shape='RECTANGULAR', diameter=None, angle_height=10.0, angle_width=30.0) data_rate=50.5 bits_per_pixel=8\n",
      "name=None id=None mass=100.5 volume=0.75 power=150.0 orientation=[0.5, 0.5, 0.5, 0.5] field_of_view=SphericalGeometry(shape=<Shape.CIRCULAR: 'CIRCULAR'>, diameter=30.0, angle_height=None, angle_width=None) data_rate=50.5 bits_per_pixel=8\n"
     ]
    }
   ],
   "source": [
    "# Example usage of BasicSensor class\n",
    "\n",
    "sensor = BasicSensor(   mass= 100.5,\n",
    "                        volume= 0.75,\n",
    "                        power= 150.0,\n",
    "                        field_of_view = SphericalGeometry(shape=\"CIRCULAR\", diameter=30.0),\n",
    "                        data_rate= 10.5,\n",
    "                        bits_per_pixel= 16\n",
    "                    )\n",
    "\n",
    "print(sensor)\n",
    "\n",
    "sensor = BasicSensor(   mass= 100.5,\n",
    "                        volume= 0.75,\n",
    "                        power= 150.0,\n",
    "                        orientation= list([0.5,0.5,0.5,0.5]),\n",
    "                        field_of_view = SphericalGeometry(shape=\"RECTANGULAR\", angle_width=30.0, angle_height=10.0),\n",
    "                        data_rate= 50.5,\n",
    "                        bits_per_pixel= 8\n",
    "                    )\n",
    "\n",
    "print(sensor)\n",
    "\n",
    "sensor = BasicSensor(   mass= 100.5,\n",
    "                    volume= 0.75,\n",
    "                    power= 150.0,\n",
    "                    orientation= list([0.5,0.5,0.5,0.5]),\n",
    "                    data_rate= 50.5,\n",
    "                    bits_per_pixel= 8\n",
    "                )\n",
    "\n",
    "print(sensor)"
   ]
  }
 ],
 "metadata": {
  "kernelspec": {
   "display_name": "dsh",
   "language": "python",
   "name": "python3"
  },
  "language_info": {
   "codemirror_mode": {
    "name": "ipython",
    "version": 3
   },
   "file_extension": ".py",
   "mimetype": "text/x-python",
   "name": "python",
   "nbconvert_exporter": "python",
   "pygments_lexer": "ipython3",
   "version": "3.8.12"
  }
 },
 "nbformat": 4,
 "nbformat_minor": 2
}
