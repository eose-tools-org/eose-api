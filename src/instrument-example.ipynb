{
 "cells": [
  {
   "cell_type": "code",
   "execution_count": null,
   "metadata": {},
   "outputs": [],
   "source": [
    "from eose.instruments import  CircularGeometry, RectangularGeometry, BasicSensor\n",
    "\n",
    "from pydantic import ValidationError\n",
    "\n",
    "# Example usage of SphericalGeometry class used to define the field of view of the instrument\n",
    "\n",
    "circ_geom = CircularGeometry(diameter=90.0)\n",
    "print(circ_geom)\n",
    "\n",
    "rect_geom = RectangularGeometry(angle_height= 90.0, angle_width= 45)\n",
    "print(rect_geom)\n"
   ]
  },
  {
   "cell_type": "code",
   "execution_count": null,
   "metadata": {},
   "outputs": [],
   "source": [
    "# Example usage of BasicSensor class\n",
    "\n",
    "sensor = BasicSensor(   mass= 100.5,\n",
    "                        volume= 0.75,\n",
    "                        power= 150.0,\n",
    "                        field_of_view = CircularGeometry(diameter=30.0),\n",
    "                        data_rate= 10.5,\n",
    "                        bits_per_pixel= 16\n",
    "                    )\n",
    "\n",
    "print(sensor)\n",
    "\n",
    "sensor = BasicSensor(   mass= 100.5,\n",
    "                        volume= 0.75,\n",
    "                        power= 150.0,\n",
    "                        orientation= list([0.5,0.5,0.5,0.5]),\n",
    "                        field_of_view = RectangularGeometry(ngle_width=30.0, angle_height=10.0),\n",
    "                        data_rate= 50.5,\n",
    "                        bits_per_pixel= 8\n",
    "                    )\n",
    "\n",
    "print(sensor)\n",
    "\n",
    "sensor = BasicSensor(   mass= 100.5,\n",
    "                    volume= 0.75,\n",
    "                    power= 150.0,\n",
    "                    orientation= list([0.5,0.5,0.5,0.5]),\n",
    "                    data_rate= 50.5,\n",
    "                    bits_per_pixel= 8\n",
    "                )\n",
    "\n",
    "print(sensor)"
   ]
  }
 ],
 "metadata": {
  "kernelspec": {
   "display_name": "dsh",
   "language": "python",
   "name": "python3"
  },
  "language_info": {
   "codemirror_mode": {
    "name": "ipython",
    "version": 3
   },
   "file_extension": ".py",
   "mimetype": "text/x-python",
   "name": "python",
   "nbconvert_exporter": "python",
   "pygments_lexer": "ipython3",
   "version": "3.8.12"
  }
 },
 "nbformat": 4,
 "nbformat_minor": 2
}
